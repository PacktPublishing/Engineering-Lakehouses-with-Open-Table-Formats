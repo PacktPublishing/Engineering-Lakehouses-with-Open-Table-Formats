{
 "cells": [
  {
   "cell_type": "code",
   "execution_count": 30,
   "id": "5049e76e",
   "metadata": {},
   "outputs": [
    {
     "name": "stdout",
     "output_type": "stream",
     "text": [
      "Defaulting to user installation because normal site-packages is not writeable\n",
      "Requirement already satisfied: getdaft in /home/docker/.local/lib/python3.10/site-packages (0.3.13)\n",
      "Requirement already satisfied: pyarrow>=7.0.0 in /home/docker/.local/lib/python3.10/site-packages (from getdaft) (18.0.0)\n",
      "Requirement already satisfied: tqdm in /home/docker/.local/lib/python3.10/site-packages (from getdaft) (4.67.0)\n",
      "Requirement already satisfied: fsspec in /home/docker/.local/lib/python3.10/site-packages (from getdaft) (2023.12.2)\n",
      "Note: you may need to restart the kernel to use updated packages.\n"
     ]
    }
   ],
   "source": [
    "pip install -U getdaft"
   ]
  },
  {
   "cell_type": "code",
   "execution_count": null,
   "id": "4b76213d",
   "metadata": {},
   "outputs": [],
   "source": [
    "pip install \"pyiceberg[s3fs,sql-sqlite]\""
   ]
  },
  {
   "cell_type": "markdown",
   "id": "62e443b5",
   "metadata": {},
   "source": [
    "# Load the Iceberg table from catalog using PyIceberg"
   ]
  },
  {
   "cell_type": "code",
   "execution_count": null,
   "id": "e5b156b0",
   "metadata": {},
   "outputs": [],
   "source": [
    "from pyiceberg.catalog import load_catalog\n",
    "catalog = load_catalog(\"my_iceberg_catalog\")\n",
    "ice_table = catalog.load_table(\"default.taxi.dataset_ice\")"
   ]
  },
  {
   "cell_type": "markdown",
   "id": "2c5b497a",
   "metadata": {},
   "source": [
    "# Read query"
   ]
  },
  {
   "cell_type": "code",
   "execution_count": 12,
   "id": "c362909d",
   "metadata": {},
   "outputs": [],
   "source": [
    "import daft\n",
    "df_daft = daft.read_iceberg(ice_table)"
   ]
  },
  {
   "cell_type": "code",
   "execution_count": 13,
   "id": "e6ed5e6a",
   "metadata": {},
   "outputs": [
    {
     "data": {
      "text/html": [
       "<div>\n",
       "<table class=\"dataframe\">\n",
       "<thead><tr><th style=\"text-wrap: nowrap; max-width:192px; overflow:auto; text-align:left\">VendorID<br />Int64</th><th style=\"text-wrap: nowrap; max-width:192px; overflow:auto; text-align:left\">tpep_pickup_datetime<br />Timestamp(Microseconds, None)</th><th style=\"text-wrap: nowrap; max-width:192px; overflow:auto; text-align:left\">tpep_dropoff_datetime<br />Timestamp(Microseconds, None)</th><th style=\"text-wrap: nowrap; max-width:192px; overflow:auto; text-align:left\">passenger_count<br />Float64</th><th style=\"text-wrap: nowrap; max-width:192px; overflow:auto; text-align:left\">trip_distance<br />Float64</th><th style=\"text-wrap: nowrap; max-width:192px; overflow:auto; text-align:left\">RatecodeID<br />Float64</th><th style=\"text-wrap: nowrap; max-width:192px; overflow:auto; text-align:left\">store_and_fwd_flag<br />Utf8</th><th style=\"text-wrap: nowrap; max-width:192px; overflow:auto; text-align:left\">PULocationID<br />Int64</th><th style=\"text-wrap: nowrap; max-width:192px; overflow:auto; text-align:left\">DOLocationID<br />Int64</th><th style=\"text-wrap: nowrap; max-width:192px; overflow:auto; text-align:left\">payment_type<br />Int64</th><th style=\"text-wrap: nowrap; max-width:192px; overflow:auto; text-align:left\">fare_amount<br />Float64</th><th style=\"text-wrap: nowrap; max-width:192px; overflow:auto; text-align:left\">extra<br />Float64</th><th style=\"text-wrap: nowrap; max-width:192px; overflow:auto; text-align:left\">mta_tax<br />Float64</th><th style=\"text-wrap: nowrap; max-width:192px; overflow:auto; text-align:left\">tip_amount<br />Float64</th><th style=\"text-wrap: nowrap; max-width:192px; overflow:auto; text-align:left\">tolls_amount<br />Float64</th><th style=\"text-wrap: nowrap; max-width:192px; overflow:auto; text-align:left\">improvement_surcharge<br />Float64</th><th style=\"text-wrap: nowrap; max-width:192px; overflow:auto; text-align:left\">total_amount<br />Float64</th><th style=\"text-wrap: nowrap; max-width:192px; overflow:auto; text-align:left\">congestion_surcharge<br />Float64</th><th style=\"text-wrap: nowrap; max-width:192px; overflow:auto; text-align:left\">airport_fee<br />Float64</th></tr></thead>\n",
       "<tbody>\n",
       "<tr><td><div style=\"text-align:left; max-width:192px; max-height:64px; overflow:auto\">2</div></td><td><div style=\"text-align:left; max-width:192px; max-height:64px; overflow:auto\">2023-01-01 00:32:10</div></td><td><div style=\"text-align:left; max-width:192px; max-height:64px; overflow:auto\">2023-01-01 00:40:36</div></td><td><div style=\"text-align:left; max-width:192px; max-height:64px; overflow:auto\">1</div></td><td><div style=\"text-align:left; max-width:192px; max-height:64px; overflow:auto\">0.97</div></td><td><div style=\"text-align:left; max-width:192px; max-height:64px; overflow:auto\">1</div></td><td><div style=\"text-align:left; max-width:192px; max-height:64px; overflow:auto\">N</div></td><td><div style=\"text-align:left; max-width:192px; max-height:64px; overflow:auto\">161</div></td><td><div style=\"text-align:left; max-width:192px; max-height:64px; overflow:auto\">141</div></td><td><div style=\"text-align:left; max-width:192px; max-height:64px; overflow:auto\">2</div></td><td><div style=\"text-align:left; max-width:192px; max-height:64px; overflow:auto\">9.3</div></td><td><div style=\"text-align:left; max-width:192px; max-height:64px; overflow:auto\">1</div></td><td><div style=\"text-align:left; max-width:192px; max-height:64px; overflow:auto\">0.5</div></td><td><div style=\"text-align:left; max-width:192px; max-height:64px; overflow:auto\">0</div></td><td><div style=\"text-align:left; max-width:192px; max-height:64px; overflow:auto\">0</div></td><td><div style=\"text-align:left; max-width:192px; max-height:64px; overflow:auto\">1</div></td><td><div style=\"text-align:left; max-width:192px; max-height:64px; overflow:auto\">14.3</div></td><td><div style=\"text-align:left; max-width:192px; max-height:64px; overflow:auto\">2.5</div></td><td><div style=\"text-align:left; max-width:192px; max-height:64px; overflow:auto\">0</div></td></tr>\n",
       "<tr><td><div style=\"text-align:left; max-width:192px; max-height:64px; overflow:auto\">2</div></td><td><div style=\"text-align:left; max-width:192px; max-height:64px; overflow:auto\">2023-01-01 00:55:08</div></td><td><div style=\"text-align:left; max-width:192px; max-height:64px; overflow:auto\">2023-01-01 01:01:27</div></td><td><div style=\"text-align:left; max-width:192px; max-height:64px; overflow:auto\">1</div></td><td><div style=\"text-align:left; max-width:192px; max-height:64px; overflow:auto\">1.1</div></td><td><div style=\"text-align:left; max-width:192px; max-height:64px; overflow:auto\">1</div></td><td><div style=\"text-align:left; max-width:192px; max-height:64px; overflow:auto\">N</div></td><td><div style=\"text-align:left; max-width:192px; max-height:64px; overflow:auto\">43</div></td><td><div style=\"text-align:left; max-width:192px; max-height:64px; overflow:auto\">237</div></td><td><div style=\"text-align:left; max-width:192px; max-height:64px; overflow:auto\">1</div></td><td><div style=\"text-align:left; max-width:192px; max-height:64px; overflow:auto\">7.9</div></td><td><div style=\"text-align:left; max-width:192px; max-height:64px; overflow:auto\">1</div></td><td><div style=\"text-align:left; max-width:192px; max-height:64px; overflow:auto\">0.5</div></td><td><div style=\"text-align:left; max-width:192px; max-height:64px; overflow:auto\">4</div></td><td><div style=\"text-align:left; max-width:192px; max-height:64px; overflow:auto\">0</div></td><td><div style=\"text-align:left; max-width:192px; max-height:64px; overflow:auto\">1</div></td><td><div style=\"text-align:left; max-width:192px; max-height:64px; overflow:auto\">16.9</div></td><td><div style=\"text-align:left; max-width:192px; max-height:64px; overflow:auto\">2.5</div></td><td><div style=\"text-align:left; max-width:192px; max-height:64px; overflow:auto\">0</div></td></tr>\n",
       "<tr><td><div style=\"text-align:left; max-width:192px; max-height:64px; overflow:auto\">2</div></td><td><div style=\"text-align:left; max-width:192px; max-height:64px; overflow:auto\">2023-01-01 00:25:04</div></td><td><div style=\"text-align:left; max-width:192px; max-height:64px; overflow:auto\">2023-01-01 00:37:49</div></td><td><div style=\"text-align:left; max-width:192px; max-height:64px; overflow:auto\">1</div></td><td><div style=\"text-align:left; max-width:192px; max-height:64px; overflow:auto\">2.51</div></td><td><div style=\"text-align:left; max-width:192px; max-height:64px; overflow:auto\">1</div></td><td><div style=\"text-align:left; max-width:192px; max-height:64px; overflow:auto\">N</div></td><td><div style=\"text-align:left; max-width:192px; max-height:64px; overflow:auto\">48</div></td><td><div style=\"text-align:left; max-width:192px; max-height:64px; overflow:auto\">238</div></td><td><div style=\"text-align:left; max-width:192px; max-height:64px; overflow:auto\">1</div></td><td><div style=\"text-align:left; max-width:192px; max-height:64px; overflow:auto\">14.9</div></td><td><div style=\"text-align:left; max-width:192px; max-height:64px; overflow:auto\">1</div></td><td><div style=\"text-align:left; max-width:192px; max-height:64px; overflow:auto\">0.5</div></td><td><div style=\"text-align:left; max-width:192px; max-height:64px; overflow:auto\">15</div></td><td><div style=\"text-align:left; max-width:192px; max-height:64px; overflow:auto\">0</div></td><td><div style=\"text-align:left; max-width:192px; max-height:64px; overflow:auto\">1</div></td><td><div style=\"text-align:left; max-width:192px; max-height:64px; overflow:auto\">34.9</div></td><td><div style=\"text-align:left; max-width:192px; max-height:64px; overflow:auto\">2.5</div></td><td><div style=\"text-align:left; max-width:192px; max-height:64px; overflow:auto\">0</div></td></tr>\n",
       "<tr><td><div style=\"text-align:left; max-width:192px; max-height:64px; overflow:auto\">1</div></td><td><div style=\"text-align:left; max-width:192px; max-height:64px; overflow:auto\">2023-01-01 00:03:48</div></td><td><div style=\"text-align:left; max-width:192px; max-height:64px; overflow:auto\">2023-01-01 00:13:25</div></td><td><div style=\"text-align:left; max-width:192px; max-height:64px; overflow:auto\">0</div></td><td><div style=\"text-align:left; max-width:192px; max-height:64px; overflow:auto\">1.9</div></td><td><div style=\"text-align:left; max-width:192px; max-height:64px; overflow:auto\">1</div></td><td><div style=\"text-align:left; max-width:192px; max-height:64px; overflow:auto\">N</div></td><td><div style=\"text-align:left; max-width:192px; max-height:64px; overflow:auto\">138</div></td><td><div style=\"text-align:left; max-width:192px; max-height:64px; overflow:auto\">7</div></td><td><div style=\"text-align:left; max-width:192px; max-height:64px; overflow:auto\">1</div></td><td><div style=\"text-align:left; max-width:192px; max-height:64px; overflow:auto\">12.1</div></td><td><div style=\"text-align:left; max-width:192px; max-height:64px; overflow:auto\">7.25</div></td><td><div style=\"text-align:left; max-width:192px; max-height:64px; overflow:auto\">0.5</div></td><td><div style=\"text-align:left; max-width:192px; max-height:64px; overflow:auto\">0</div></td><td><div style=\"text-align:left; max-width:192px; max-height:64px; overflow:auto\">0</div></td><td><div style=\"text-align:left; max-width:192px; max-height:64px; overflow:auto\">1</div></td><td><div style=\"text-align:left; max-width:192px; max-height:64px; overflow:auto\">20.85</div></td><td><div style=\"text-align:left; max-width:192px; max-height:64px; overflow:auto\">0</div></td><td><div style=\"text-align:left; max-width:192px; max-height:64px; overflow:auto\">1.25</div></td></tr>\n",
       "<tr><td><div style=\"text-align:left; max-width:192px; max-height:64px; overflow:auto\">2</div></td><td><div style=\"text-align:left; max-width:192px; max-height:64px; overflow:auto\">2023-01-01 00:10:29</div></td><td><div style=\"text-align:left; max-width:192px; max-height:64px; overflow:auto\">2023-01-01 00:21:19</div></td><td><div style=\"text-align:left; max-width:192px; max-height:64px; overflow:auto\">1</div></td><td><div style=\"text-align:left; max-width:192px; max-height:64px; overflow:auto\">1.43</div></td><td><div style=\"text-align:left; max-width:192px; max-height:64px; overflow:auto\">1</div></td><td><div style=\"text-align:left; max-width:192px; max-height:64px; overflow:auto\">N</div></td><td><div style=\"text-align:left; max-width:192px; max-height:64px; overflow:auto\">107</div></td><td><div style=\"text-align:left; max-width:192px; max-height:64px; overflow:auto\">79</div></td><td><div style=\"text-align:left; max-width:192px; max-height:64px; overflow:auto\">1</div></td><td><div style=\"text-align:left; max-width:192px; max-height:64px; overflow:auto\">11.4</div></td><td><div style=\"text-align:left; max-width:192px; max-height:64px; overflow:auto\">1</div></td><td><div style=\"text-align:left; max-width:192px; max-height:64px; overflow:auto\">0.5</div></td><td><div style=\"text-align:left; max-width:192px; max-height:64px; overflow:auto\">3.28</div></td><td><div style=\"text-align:left; max-width:192px; max-height:64px; overflow:auto\">0</div></td><td><div style=\"text-align:left; max-width:192px; max-height:64px; overflow:auto\">1</div></td><td><div style=\"text-align:left; max-width:192px; max-height:64px; overflow:auto\">19.68</div></td><td><div style=\"text-align:left; max-width:192px; max-height:64px; overflow:auto\">2.5</div></td><td><div style=\"text-align:left; max-width:192px; max-height:64px; overflow:auto\">0</div></td></tr>\n",
       "<tr><td><div style=\"text-align:left; max-width:192px; max-height:64px; overflow:auto\">2</div></td><td><div style=\"text-align:left; max-width:192px; max-height:64px; overflow:auto\">2023-01-01 00:50:34</div></td><td><div style=\"text-align:left; max-width:192px; max-height:64px; overflow:auto\">2023-01-01 01:02:52</div></td><td><div style=\"text-align:left; max-width:192px; max-height:64px; overflow:auto\">1</div></td><td><div style=\"text-align:left; max-width:192px; max-height:64px; overflow:auto\">1.84</div></td><td><div style=\"text-align:left; max-width:192px; max-height:64px; overflow:auto\">1</div></td><td><div style=\"text-align:left; max-width:192px; max-height:64px; overflow:auto\">N</div></td><td><div style=\"text-align:left; max-width:192px; max-height:64px; overflow:auto\">161</div></td><td><div style=\"text-align:left; max-width:192px; max-height:64px; overflow:auto\">137</div></td><td><div style=\"text-align:left; max-width:192px; max-height:64px; overflow:auto\">1</div></td><td><div style=\"text-align:left; max-width:192px; max-height:64px; overflow:auto\">12.8</div></td><td><div style=\"text-align:left; max-width:192px; max-height:64px; overflow:auto\">1</div></td><td><div style=\"text-align:left; max-width:192px; max-height:64px; overflow:auto\">0.5</div></td><td><div style=\"text-align:left; max-width:192px; max-height:64px; overflow:auto\">10</div></td><td><div style=\"text-align:left; max-width:192px; max-height:64px; overflow:auto\">0</div></td><td><div style=\"text-align:left; max-width:192px; max-height:64px; overflow:auto\">1</div></td><td><div style=\"text-align:left; max-width:192px; max-height:64px; overflow:auto\">27.8</div></td><td><div style=\"text-align:left; max-width:192px; max-height:64px; overflow:auto\">2.5</div></td><td><div style=\"text-align:left; max-width:192px; max-height:64px; overflow:auto\">0</div></td></tr>\n",
       "<tr><td><div style=\"text-align:left; max-width:192px; max-height:64px; overflow:auto\">2</div></td><td><div style=\"text-align:left; max-width:192px; max-height:64px; overflow:auto\">2023-01-01 00:09:22</div></td><td><div style=\"text-align:left; max-width:192px; max-height:64px; overflow:auto\">2023-01-01 00:19:49</div></td><td><div style=\"text-align:left; max-width:192px; max-height:64px; overflow:auto\">1</div></td><td><div style=\"text-align:left; max-width:192px; max-height:64px; overflow:auto\">1.66</div></td><td><div style=\"text-align:left; max-width:192px; max-height:64px; overflow:auto\">1</div></td><td><div style=\"text-align:left; max-width:192px; max-height:64px; overflow:auto\">N</div></td><td><div style=\"text-align:left; max-width:192px; max-height:64px; overflow:auto\">239</div></td><td><div style=\"text-align:left; max-width:192px; max-height:64px; overflow:auto\">143</div></td><td><div style=\"text-align:left; max-width:192px; max-height:64px; overflow:auto\">1</div></td><td><div style=\"text-align:left; max-width:192px; max-height:64px; overflow:auto\">12.1</div></td><td><div style=\"text-align:left; max-width:192px; max-height:64px; overflow:auto\">1</div></td><td><div style=\"text-align:left; max-width:192px; max-height:64px; overflow:auto\">0.5</div></td><td><div style=\"text-align:left; max-width:192px; max-height:64px; overflow:auto\">3.42</div></td><td><div style=\"text-align:left; max-width:192px; max-height:64px; overflow:auto\">0</div></td><td><div style=\"text-align:left; max-width:192px; max-height:64px; overflow:auto\">1</div></td><td><div style=\"text-align:left; max-width:192px; max-height:64px; overflow:auto\">20.52</div></td><td><div style=\"text-align:left; max-width:192px; max-height:64px; overflow:auto\">2.5</div></td><td><div style=\"text-align:left; max-width:192px; max-height:64px; overflow:auto\">0</div></td></tr>\n",
       "<tr><td><div style=\"text-align:left; max-width:192px; max-height:64px; overflow:auto\">2</div></td><td><div style=\"text-align:left; max-width:192px; max-height:64px; overflow:auto\">2023-01-01 00:27:12</div></td><td><div style=\"text-align:left; max-width:192px; max-height:64px; overflow:auto\">2023-01-01 00:49:56</div></td><td><div style=\"text-align:left; max-width:192px; max-height:64px; overflow:auto\">1</div></td><td><div style=\"text-align:left; max-width:192px; max-height:64px; overflow:auto\">11.7</div></td><td><div style=\"text-align:left; max-width:192px; max-height:64px; overflow:auto\">1</div></td><td><div style=\"text-align:left; max-width:192px; max-height:64px; overflow:auto\">N</div></td><td><div style=\"text-align:left; max-width:192px; max-height:64px; overflow:auto\">142</div></td><td><div style=\"text-align:left; max-width:192px; max-height:64px; overflow:auto\">200</div></td><td><div style=\"text-align:left; max-width:192px; max-height:64px; overflow:auto\">1</div></td><td><div style=\"text-align:left; max-width:192px; max-height:64px; overflow:auto\">45.7</div></td><td><div style=\"text-align:left; max-width:192px; max-height:64px; overflow:auto\">1</div></td><td><div style=\"text-align:left; max-width:192px; max-height:64px; overflow:auto\">0.5</div></td><td><div style=\"text-align:left; max-width:192px; max-height:64px; overflow:auto\">10.74</div></td><td><div style=\"text-align:left; max-width:192px; max-height:64px; overflow:auto\">3</div></td><td><div style=\"text-align:left; max-width:192px; max-height:64px; overflow:auto\">1</div></td><td><div style=\"text-align:left; max-width:192px; max-height:64px; overflow:auto\">64.44</div></td><td><div style=\"text-align:left; max-width:192px; max-height:64px; overflow:auto\">2.5</div></td><td><div style=\"text-align:left; max-width:192px; max-height:64px; overflow:auto\">0</div></td></tr>\n",
       "</tbody>\n",
       "</table>\n",
       "<small>(Showing first 8 rows)</small>\n",
       "</div>"
      ],
      "text/plain": [
       "╭──────────┬─────────────────────┬─────────────────────┬─────────────┬──────────────┬────────────────────┬─────────────╮\n",
       "│ VendorID ┆ tpep_pickup_datetim ┆ tpep_dropoff_dateti ┆      …      ┆ total_amount ┆ congestion_surchar ┆ airport_fee │\n",
       "│ ---      ┆ e                   ┆ me                  ┆             ┆ ---          ┆ ge                 ┆ ---         │\n",
       "│ Int64    ┆ ---                 ┆ ---                 ┆ (13 hidden) ┆ Float64      ┆ ---                ┆ Float64     │\n",
       "│          ┆ Timestamp(Microseco ┆ Timestamp(Microseco ┆             ┆              ┆ Float64            ┆             │\n",
       "│          ┆ nds, None)          ┆ nds, None)          ┆             ┆              ┆                    ┆             │\n",
       "╞══════════╪═════════════════════╪═════════════════════╪═════════════╪══════════════╪════════════════════╪═════════════╡\n",
       "│ 2        ┆ 2023-01-01 00:32:10 ┆ 2023-01-01 00:40:36 ┆ …           ┆ 14.3         ┆ 2.5                ┆ 0           │\n",
       "├╌╌╌╌╌╌╌╌╌╌┼╌╌╌╌╌╌╌╌╌╌╌╌╌╌╌╌╌╌╌╌╌┼╌╌╌╌╌╌╌╌╌╌╌╌╌╌╌╌╌╌╌╌╌┼╌╌╌╌╌╌╌╌╌╌╌╌╌┼╌╌╌╌╌╌╌╌╌╌╌╌╌╌┼╌╌╌╌╌╌╌╌╌╌╌╌╌╌╌╌╌╌╌╌┼╌╌╌╌╌╌╌╌╌╌╌╌╌┤\n",
       "│ 2        ┆ 2023-01-01 00:55:08 ┆ 2023-01-01 01:01:27 ┆ …           ┆ 16.9         ┆ 2.5                ┆ 0           │\n",
       "├╌╌╌╌╌╌╌╌╌╌┼╌╌╌╌╌╌╌╌╌╌╌╌╌╌╌╌╌╌╌╌╌┼╌╌╌╌╌╌╌╌╌╌╌╌╌╌╌╌╌╌╌╌╌┼╌╌╌╌╌╌╌╌╌╌╌╌╌┼╌╌╌╌╌╌╌╌╌╌╌╌╌╌┼╌╌╌╌╌╌╌╌╌╌╌╌╌╌╌╌╌╌╌╌┼╌╌╌╌╌╌╌╌╌╌╌╌╌┤\n",
       "│ 2        ┆ 2023-01-01 00:25:04 ┆ 2023-01-01 00:37:49 ┆ …           ┆ 34.9         ┆ 2.5                ┆ 0           │\n",
       "├╌╌╌╌╌╌╌╌╌╌┼╌╌╌╌╌╌╌╌╌╌╌╌╌╌╌╌╌╌╌╌╌┼╌╌╌╌╌╌╌╌╌╌╌╌╌╌╌╌╌╌╌╌╌┼╌╌╌╌╌╌╌╌╌╌╌╌╌┼╌╌╌╌╌╌╌╌╌╌╌╌╌╌┼╌╌╌╌╌╌╌╌╌╌╌╌╌╌╌╌╌╌╌╌┼╌╌╌╌╌╌╌╌╌╌╌╌╌┤\n",
       "│ 1        ┆ 2023-01-01 00:03:48 ┆ 2023-01-01 00:13:25 ┆ …           ┆ 20.85        ┆ 0                  ┆ 1.25        │\n",
       "├╌╌╌╌╌╌╌╌╌╌┼╌╌╌╌╌╌╌╌╌╌╌╌╌╌╌╌╌╌╌╌╌┼╌╌╌╌╌╌╌╌╌╌╌╌╌╌╌╌╌╌╌╌╌┼╌╌╌╌╌╌╌╌╌╌╌╌╌┼╌╌╌╌╌╌╌╌╌╌╌╌╌╌┼╌╌╌╌╌╌╌╌╌╌╌╌╌╌╌╌╌╌╌╌┼╌╌╌╌╌╌╌╌╌╌╌╌╌┤\n",
       "│ 2        ┆ 2023-01-01 00:10:29 ┆ 2023-01-01 00:21:19 ┆ …           ┆ 19.68        ┆ 2.5                ┆ 0           │\n",
       "├╌╌╌╌╌╌╌╌╌╌┼╌╌╌╌╌╌╌╌╌╌╌╌╌╌╌╌╌╌╌╌╌┼╌╌╌╌╌╌╌╌╌╌╌╌╌╌╌╌╌╌╌╌╌┼╌╌╌╌╌╌╌╌╌╌╌╌╌┼╌╌╌╌╌╌╌╌╌╌╌╌╌╌┼╌╌╌╌╌╌╌╌╌╌╌╌╌╌╌╌╌╌╌╌┼╌╌╌╌╌╌╌╌╌╌╌╌╌┤\n",
       "│ 2        ┆ 2023-01-01 00:50:34 ┆ 2023-01-01 01:02:52 ┆ …           ┆ 27.8         ┆ 2.5                ┆ 0           │\n",
       "├╌╌╌╌╌╌╌╌╌╌┼╌╌╌╌╌╌╌╌╌╌╌╌╌╌╌╌╌╌╌╌╌┼╌╌╌╌╌╌╌╌╌╌╌╌╌╌╌╌╌╌╌╌╌┼╌╌╌╌╌╌╌╌╌╌╌╌╌┼╌╌╌╌╌╌╌╌╌╌╌╌╌╌┼╌╌╌╌╌╌╌╌╌╌╌╌╌╌╌╌╌╌╌╌┼╌╌╌╌╌╌╌╌╌╌╌╌╌┤\n",
       "│ 2        ┆ 2023-01-01 00:09:22 ┆ 2023-01-01 00:19:49 ┆ …           ┆ 20.52        ┆ 2.5                ┆ 0           │\n",
       "├╌╌╌╌╌╌╌╌╌╌┼╌╌╌╌╌╌╌╌╌╌╌╌╌╌╌╌╌╌╌╌╌┼╌╌╌╌╌╌╌╌╌╌╌╌╌╌╌╌╌╌╌╌╌┼╌╌╌╌╌╌╌╌╌╌╌╌╌┼╌╌╌╌╌╌╌╌╌╌╌╌╌╌┼╌╌╌╌╌╌╌╌╌╌╌╌╌╌╌╌╌╌╌╌┼╌╌╌╌╌╌╌╌╌╌╌╌╌┤\n",
       "│ 2        ┆ 2023-01-01 00:27:12 ┆ 2023-01-01 00:49:56 ┆ …           ┆ 64.44        ┆ 2.5                ┆ 0           │\n",
       "╰──────────┴─────────────────────┴─────────────────────┴─────────────┴──────────────┴────────────────────┴─────────────╯\n",
       "\n",
       "(Showing first 8 rows)"
      ]
     },
     "metadata": {},
     "output_type": "display_data"
    }
   ],
   "source": [
    "df_daft.show()"
   ]
  },
  {
   "cell_type": "code",
   "execution_count": 36,
   "id": "fd4942b0",
   "metadata": {},
   "outputs": [],
   "source": [
    "df_daft_new = df_daft.where(df_daft[\"total_amount\"] < 20)"
   ]
  },
  {
   "cell_type": "code",
   "execution_count": 37,
   "id": "ad92d953",
   "metadata": {},
   "outputs": [
    {
     "data": {
      "text/html": [
       "<div>\n",
       "<table class=\"dataframe\">\n",
       "<thead><tr><th style=\"text-wrap: nowrap; max-width:192px; overflow:auto; text-align:left\">VendorID<br />Int64</th><th style=\"text-wrap: nowrap; max-width:192px; overflow:auto; text-align:left\">tpep_pickup_datetime<br />Timestamp(Microseconds, None)</th><th style=\"text-wrap: nowrap; max-width:192px; overflow:auto; text-align:left\">tpep_dropoff_datetime<br />Timestamp(Microseconds, None)</th><th style=\"text-wrap: nowrap; max-width:192px; overflow:auto; text-align:left\">passenger_count<br />Float64</th><th style=\"text-wrap: nowrap; max-width:192px; overflow:auto; text-align:left\">trip_distance<br />Float64</th><th style=\"text-wrap: nowrap; max-width:192px; overflow:auto; text-align:left\">RatecodeID<br />Float64</th><th style=\"text-wrap: nowrap; max-width:192px; overflow:auto; text-align:left\">store_and_fwd_flag<br />Utf8</th><th style=\"text-wrap: nowrap; max-width:192px; overflow:auto; text-align:left\">PULocationID<br />Int64</th><th style=\"text-wrap: nowrap; max-width:192px; overflow:auto; text-align:left\">DOLocationID<br />Int64</th><th style=\"text-wrap: nowrap; max-width:192px; overflow:auto; text-align:left\">payment_type<br />Int64</th><th style=\"text-wrap: nowrap; max-width:192px; overflow:auto; text-align:left\">fare_amount<br />Float64</th><th style=\"text-wrap: nowrap; max-width:192px; overflow:auto; text-align:left\">extra<br />Float64</th><th style=\"text-wrap: nowrap; max-width:192px; overflow:auto; text-align:left\">mta_tax<br />Float64</th><th style=\"text-wrap: nowrap; max-width:192px; overflow:auto; text-align:left\">tip_amount<br />Float64</th><th style=\"text-wrap: nowrap; max-width:192px; overflow:auto; text-align:left\">tolls_amount<br />Float64</th><th style=\"text-wrap: nowrap; max-width:192px; overflow:auto; text-align:left\">improvement_surcharge<br />Float64</th><th style=\"text-wrap: nowrap; max-width:192px; overflow:auto; text-align:left\">total_amount<br />Float64</th><th style=\"text-wrap: nowrap; max-width:192px; overflow:auto; text-align:left\">congestion_surcharge<br />Float64</th><th style=\"text-wrap: nowrap; max-width:192px; overflow:auto; text-align:left\">airport_fee<br />Float64</th></tr></thead>\n",
       "<tbody>\n",
       "<tr><td><div style=\"text-align:left; max-width:192px; max-height:64px; overflow:auto\">2</div></td><td><div style=\"text-align:left; max-width:192px; max-height:64px; overflow:auto\">2023-01-01 00:32:10</div></td><td><div style=\"text-align:left; max-width:192px; max-height:64px; overflow:auto\">2023-01-01 00:40:36</div></td><td><div style=\"text-align:left; max-width:192px; max-height:64px; overflow:auto\">1</div></td><td><div style=\"text-align:left; max-width:192px; max-height:64px; overflow:auto\">0.97</div></td><td><div style=\"text-align:left; max-width:192px; max-height:64px; overflow:auto\">1</div></td><td><div style=\"text-align:left; max-width:192px; max-height:64px; overflow:auto\">N</div></td><td><div style=\"text-align:left; max-width:192px; max-height:64px; overflow:auto\">161</div></td><td><div style=\"text-align:left; max-width:192px; max-height:64px; overflow:auto\">141</div></td><td><div style=\"text-align:left; max-width:192px; max-height:64px; overflow:auto\">2</div></td><td><div style=\"text-align:left; max-width:192px; max-height:64px; overflow:auto\">9.3</div></td><td><div style=\"text-align:left; max-width:192px; max-height:64px; overflow:auto\">1</div></td><td><div style=\"text-align:left; max-width:192px; max-height:64px; overflow:auto\">0.5</div></td><td><div style=\"text-align:left; max-width:192px; max-height:64px; overflow:auto\">0</div></td><td><div style=\"text-align:left; max-width:192px; max-height:64px; overflow:auto\">0</div></td><td><div style=\"text-align:left; max-width:192px; max-height:64px; overflow:auto\">1</div></td><td><div style=\"text-align:left; max-width:192px; max-height:64px; overflow:auto\">14.3</div></td><td><div style=\"text-align:left; max-width:192px; max-height:64px; overflow:auto\">2.5</div></td><td><div style=\"text-align:left; max-width:192px; max-height:64px; overflow:auto\">0</div></td></tr>\n",
       "<tr><td><div style=\"text-align:left; max-width:192px; max-height:64px; overflow:auto\">2</div></td><td><div style=\"text-align:left; max-width:192px; max-height:64px; overflow:auto\">2023-01-01 00:55:08</div></td><td><div style=\"text-align:left; max-width:192px; max-height:64px; overflow:auto\">2023-01-01 01:01:27</div></td><td><div style=\"text-align:left; max-width:192px; max-height:64px; overflow:auto\">1</div></td><td><div style=\"text-align:left; max-width:192px; max-height:64px; overflow:auto\">1.1</div></td><td><div style=\"text-align:left; max-width:192px; max-height:64px; overflow:auto\">1</div></td><td><div style=\"text-align:left; max-width:192px; max-height:64px; overflow:auto\">N</div></td><td><div style=\"text-align:left; max-width:192px; max-height:64px; overflow:auto\">43</div></td><td><div style=\"text-align:left; max-width:192px; max-height:64px; overflow:auto\">237</div></td><td><div style=\"text-align:left; max-width:192px; max-height:64px; overflow:auto\">1</div></td><td><div style=\"text-align:left; max-width:192px; max-height:64px; overflow:auto\">7.9</div></td><td><div style=\"text-align:left; max-width:192px; max-height:64px; overflow:auto\">1</div></td><td><div style=\"text-align:left; max-width:192px; max-height:64px; overflow:auto\">0.5</div></td><td><div style=\"text-align:left; max-width:192px; max-height:64px; overflow:auto\">4</div></td><td><div style=\"text-align:left; max-width:192px; max-height:64px; overflow:auto\">0</div></td><td><div style=\"text-align:left; max-width:192px; max-height:64px; overflow:auto\">1</div></td><td><div style=\"text-align:left; max-width:192px; max-height:64px; overflow:auto\">16.9</div></td><td><div style=\"text-align:left; max-width:192px; max-height:64px; overflow:auto\">2.5</div></td><td><div style=\"text-align:left; max-width:192px; max-height:64px; overflow:auto\">0</div></td></tr>\n",
       "<tr><td><div style=\"text-align:left; max-width:192px; max-height:64px; overflow:auto\">2</div></td><td><div style=\"text-align:left; max-width:192px; max-height:64px; overflow:auto\">2023-01-01 00:10:29</div></td><td><div style=\"text-align:left; max-width:192px; max-height:64px; overflow:auto\">2023-01-01 00:21:19</div></td><td><div style=\"text-align:left; max-width:192px; max-height:64px; overflow:auto\">1</div></td><td><div style=\"text-align:left; max-width:192px; max-height:64px; overflow:auto\">1.43</div></td><td><div style=\"text-align:left; max-width:192px; max-height:64px; overflow:auto\">1</div></td><td><div style=\"text-align:left; max-width:192px; max-height:64px; overflow:auto\">N</div></td><td><div style=\"text-align:left; max-width:192px; max-height:64px; overflow:auto\">107</div></td><td><div style=\"text-align:left; max-width:192px; max-height:64px; overflow:auto\">79</div></td><td><div style=\"text-align:left; max-width:192px; max-height:64px; overflow:auto\">1</div></td><td><div style=\"text-align:left; max-width:192px; max-height:64px; overflow:auto\">11.4</div></td><td><div style=\"text-align:left; max-width:192px; max-height:64px; overflow:auto\">1</div></td><td><div style=\"text-align:left; max-width:192px; max-height:64px; overflow:auto\">0.5</div></td><td><div style=\"text-align:left; max-width:192px; max-height:64px; overflow:auto\">3.28</div></td><td><div style=\"text-align:left; max-width:192px; max-height:64px; overflow:auto\">0</div></td><td><div style=\"text-align:left; max-width:192px; max-height:64px; overflow:auto\">1</div></td><td><div style=\"text-align:left; max-width:192px; max-height:64px; overflow:auto\">19.68</div></td><td><div style=\"text-align:left; max-width:192px; max-height:64px; overflow:auto\">2.5</div></td><td><div style=\"text-align:left; max-width:192px; max-height:64px; overflow:auto\">0</div></td></tr>\n",
       "<tr><td><div style=\"text-align:left; max-width:192px; max-height:64px; overflow:auto\">2</div></td><td><div style=\"text-align:left; max-width:192px; max-height:64px; overflow:auto\">2023-01-01 00:39:42</div></td><td><div style=\"text-align:left; max-width:192px; max-height:64px; overflow:auto\">2023-01-01 00:50:36</div></td><td><div style=\"text-align:left; max-width:192px; max-height:64px; overflow:auto\">1</div></td><td><div style=\"text-align:left; max-width:192px; max-height:64px; overflow:auto\">3.01</div></td><td><div style=\"text-align:left; max-width:192px; max-height:64px; overflow:auto\">1</div></td><td><div style=\"text-align:left; max-width:192px; max-height:64px; overflow:auto\">N</div></td><td><div style=\"text-align:left; max-width:192px; max-height:64px; overflow:auto\">141</div></td><td><div style=\"text-align:left; max-width:192px; max-height:64px; overflow:auto\">107</div></td><td><div style=\"text-align:left; max-width:192px; max-height:64px; overflow:auto\">2</div></td><td><div style=\"text-align:left; max-width:192px; max-height:64px; overflow:auto\">14.9</div></td><td><div style=\"text-align:left; max-width:192px; max-height:64px; overflow:auto\">1</div></td><td><div style=\"text-align:left; max-width:192px; max-height:64px; overflow:auto\">0.5</div></td><td><div style=\"text-align:left; max-width:192px; max-height:64px; overflow:auto\">0</div></td><td><div style=\"text-align:left; max-width:192px; max-height:64px; overflow:auto\">0</div></td><td><div style=\"text-align:left; max-width:192px; max-height:64px; overflow:auto\">1</div></td><td><div style=\"text-align:left; max-width:192px; max-height:64px; overflow:auto\">19.9</div></td><td><div style=\"text-align:left; max-width:192px; max-height:64px; overflow:auto\">2.5</div></td><td><div style=\"text-align:left; max-width:192px; max-height:64px; overflow:auto\">0</div></td></tr>\n",
       "<tr><td><div style=\"text-align:left; max-width:192px; max-height:64px; overflow:auto\">2</div></td><td><div style=\"text-align:left; max-width:192px; max-height:64px; overflow:auto\">2023-01-01 00:53:01</div></td><td><div style=\"text-align:left; max-width:192px; max-height:64px; overflow:auto\">2023-01-01 01:01:45</div></td><td><div style=\"text-align:left; max-width:192px; max-height:64px; overflow:auto\">1</div></td><td><div style=\"text-align:left; max-width:192px; max-height:64px; overflow:auto\">1.8</div></td><td><div style=\"text-align:left; max-width:192px; max-height:64px; overflow:auto\">1</div></td><td><div style=\"text-align:left; max-width:192px; max-height:64px; overflow:auto\">N</div></td><td><div style=\"text-align:left; max-width:192px; max-height:64px; overflow:auto\">234</div></td><td><div style=\"text-align:left; max-width:192px; max-height:64px; overflow:auto\">68</div></td><td><div style=\"text-align:left; max-width:192px; max-height:64px; overflow:auto\">1</div></td><td><div style=\"text-align:left; max-width:192px; max-height:64px; overflow:auto\">11.4</div></td><td><div style=\"text-align:left; max-width:192px; max-height:64px; overflow:auto\">1</div></td><td><div style=\"text-align:left; max-width:192px; max-height:64px; overflow:auto\">0.5</div></td><td><div style=\"text-align:left; max-width:192px; max-height:64px; overflow:auto\">3.28</div></td><td><div style=\"text-align:left; max-width:192px; max-height:64px; overflow:auto\">0</div></td><td><div style=\"text-align:left; max-width:192px; max-height:64px; overflow:auto\">1</div></td><td><div style=\"text-align:left; max-width:192px; max-height:64px; overflow:auto\">19.68</div></td><td><div style=\"text-align:left; max-width:192px; max-height:64px; overflow:auto\">2.5</div></td><td><div style=\"text-align:left; max-width:192px; max-height:64px; overflow:auto\">0</div></td></tr>\n",
       "<tr><td><div style=\"text-align:left; max-width:192px; max-height:64px; overflow:auto\">2</div></td><td><div style=\"text-align:left; max-width:192px; max-height:64px; overflow:auto\">2023-01-01 00:13:04</div></td><td><div style=\"text-align:left; max-width:192px; max-height:64px; overflow:auto\">2023-01-01 00:22:10</div></td><td><div style=\"text-align:left; max-width:192px; max-height:64px; overflow:auto\">1</div></td><td><div style=\"text-align:left; max-width:192px; max-height:64px; overflow:auto\">1.52</div></td><td><div style=\"text-align:left; max-width:192px; max-height:64px; overflow:auto\">1</div></td><td><div style=\"text-align:left; max-width:192px; max-height:64px; overflow:auto\">N</div></td><td><div style=\"text-align:left; max-width:192px; max-height:64px; overflow:auto\">79</div></td><td><div style=\"text-align:left; max-width:192px; max-height:64px; overflow:auto\">186</div></td><td><div style=\"text-align:left; max-width:192px; max-height:64px; overflow:auto\">1</div></td><td><div style=\"text-align:left; max-width:192px; max-height:64px; overflow:auto\">10</div></td><td><div style=\"text-align:left; max-width:192px; max-height:64px; overflow:auto\">1</div></td><td><div style=\"text-align:left; max-width:192px; max-height:64px; overflow:auto\">0.5</div></td><td><div style=\"text-align:left; max-width:192px; max-height:64px; overflow:auto\">1.25</div></td><td><div style=\"text-align:left; max-width:192px; max-height:64px; overflow:auto\">0</div></td><td><div style=\"text-align:left; max-width:192px; max-height:64px; overflow:auto\">1</div></td><td><div style=\"text-align:left; max-width:192px; max-height:64px; overflow:auto\">16.25</div></td><td><div style=\"text-align:left; max-width:192px; max-height:64px; overflow:auto\">2.5</div></td><td><div style=\"text-align:left; max-width:192px; max-height:64px; overflow:auto\">0</div></td></tr>\n",
       "<tr><td><div style=\"text-align:left; max-width:192px; max-height:64px; overflow:auto\">1</div></td><td><div style=\"text-align:left; max-width:192px; max-height:64px; overflow:auto\">2023-01-01 00:03:36</div></td><td><div style=\"text-align:left; max-width:192px; max-height:64px; overflow:auto\">2023-01-01 00:09:36</div></td><td><div style=\"text-align:left; max-width:192px; max-height:64px; overflow:auto\">3</div></td><td><div style=\"text-align:left; max-width:192px; max-height:64px; overflow:auto\">1.2</div></td><td><div style=\"text-align:left; max-width:192px; max-height:64px; overflow:auto\">1</div></td><td><div style=\"text-align:left; max-width:192px; max-height:64px; overflow:auto\">N</div></td><td><div style=\"text-align:left; max-width:192px; max-height:64px; overflow:auto\">237</div></td><td><div style=\"text-align:left; max-width:192px; max-height:64px; overflow:auto\">239</div></td><td><div style=\"text-align:left; max-width:192px; max-height:64px; overflow:auto\">2</div></td><td><div style=\"text-align:left; max-width:192px; max-height:64px; overflow:auto\">8.6</div></td><td><div style=\"text-align:left; max-width:192px; max-height:64px; overflow:auto\">3.5</div></td><td><div style=\"text-align:left; max-width:192px; max-height:64px; overflow:auto\">0.5</div></td><td><div style=\"text-align:left; max-width:192px; max-height:64px; overflow:auto\">0</div></td><td><div style=\"text-align:left; max-width:192px; max-height:64px; overflow:auto\">0</div></td><td><div style=\"text-align:left; max-width:192px; max-height:64px; overflow:auto\">1</div></td><td><div style=\"text-align:left; max-width:192px; max-height:64px; overflow:auto\">13.6</div></td><td><div style=\"text-align:left; max-width:192px; max-height:64px; overflow:auto\">2.5</div></td><td><div style=\"text-align:left; max-width:192px; max-height:64px; overflow:auto\">0</div></td></tr>\n",
       "<tr><td><div style=\"text-align:left; max-width:192px; max-height:64px; overflow:auto\">1</div></td><td><div style=\"text-align:left; max-width:192px; max-height:64px; overflow:auto\">2023-01-01 00:51:45</div></td><td><div style=\"text-align:left; max-width:192px; max-height:64px; overflow:auto\">2023-01-01 00:58:18</div></td><td><div style=\"text-align:left; max-width:192px; max-height:64px; overflow:auto\">1</div></td><td><div style=\"text-align:left; max-width:192px; max-height:64px; overflow:auto\">1.4</div></td><td><div style=\"text-align:left; max-width:192px; max-height:64px; overflow:auto\">1</div></td><td><div style=\"text-align:left; max-width:192px; max-height:64px; overflow:auto\">N</div></td><td><div style=\"text-align:left; max-width:192px; max-height:64px; overflow:auto\">137</div></td><td><div style=\"text-align:left; max-width:192px; max-height:64px; overflow:auto\">79</div></td><td><div style=\"text-align:left; max-width:192px; max-height:64px; overflow:auto\">1</div></td><td><div style=\"text-align:left; max-width:192px; max-height:64px; overflow:auto\">9.3</div></td><td><div style=\"text-align:left; max-width:192px; max-height:64px; overflow:auto\">3.5</div></td><td><div style=\"text-align:left; max-width:192px; max-height:64px; overflow:auto\">0.5</div></td><td><div style=\"text-align:left; max-width:192px; max-height:64px; overflow:auto\">2.85</div></td><td><div style=\"text-align:left; max-width:192px; max-height:64px; overflow:auto\">0</div></td><td><div style=\"text-align:left; max-width:192px; max-height:64px; overflow:auto\">1</div></td><td><div style=\"text-align:left; max-width:192px; max-height:64px; overflow:auto\">17.15</div></td><td><div style=\"text-align:left; max-width:192px; max-height:64px; overflow:auto\">2.5</div></td><td><div style=\"text-align:left; max-width:192px; max-height:64px; overflow:auto\">0</div></td></tr>\n",
       "</tbody>\n",
       "</table>\n",
       "<small>(Showing first 8 rows)</small>\n",
       "</div>"
      ],
      "text/plain": [
       "╭──────────┬─────────────────────┬─────────────────────┬─────────────┬──────────────┬────────────────────┬─────────────╮\n",
       "│ VendorID ┆ tpep_pickup_datetim ┆ tpep_dropoff_dateti ┆      …      ┆ total_amount ┆ congestion_surchar ┆ airport_fee │\n",
       "│ ---      ┆ e                   ┆ me                  ┆             ┆ ---          ┆ ge                 ┆ ---         │\n",
       "│ Int64    ┆ ---                 ┆ ---                 ┆ (13 hidden) ┆ Float64      ┆ ---                ┆ Float64     │\n",
       "│          ┆ Timestamp(Microseco ┆ Timestamp(Microseco ┆             ┆              ┆ Float64            ┆             │\n",
       "│          ┆ nds, None)          ┆ nds, None)          ┆             ┆              ┆                    ┆             │\n",
       "╞══════════╪═════════════════════╪═════════════════════╪═════════════╪══════════════╪════════════════════╪═════════════╡\n",
       "│ 2        ┆ 2023-01-01 00:32:10 ┆ 2023-01-01 00:40:36 ┆ …           ┆ 14.3         ┆ 2.5                ┆ 0           │\n",
       "├╌╌╌╌╌╌╌╌╌╌┼╌╌╌╌╌╌╌╌╌╌╌╌╌╌╌╌╌╌╌╌╌┼╌╌╌╌╌╌╌╌╌╌╌╌╌╌╌╌╌╌╌╌╌┼╌╌╌╌╌╌╌╌╌╌╌╌╌┼╌╌╌╌╌╌╌╌╌╌╌╌╌╌┼╌╌╌╌╌╌╌╌╌╌╌╌╌╌╌╌╌╌╌╌┼╌╌╌╌╌╌╌╌╌╌╌╌╌┤\n",
       "│ 2        ┆ 2023-01-01 00:55:08 ┆ 2023-01-01 01:01:27 ┆ …           ┆ 16.9         ┆ 2.5                ┆ 0           │\n",
       "├╌╌╌╌╌╌╌╌╌╌┼╌╌╌╌╌╌╌╌╌╌╌╌╌╌╌╌╌╌╌╌╌┼╌╌╌╌╌╌╌╌╌╌╌╌╌╌╌╌╌╌╌╌╌┼╌╌╌╌╌╌╌╌╌╌╌╌╌┼╌╌╌╌╌╌╌╌╌╌╌╌╌╌┼╌╌╌╌╌╌╌╌╌╌╌╌╌╌╌╌╌╌╌╌┼╌╌╌╌╌╌╌╌╌╌╌╌╌┤\n",
       "│ 2        ┆ 2023-01-01 00:10:29 ┆ 2023-01-01 00:21:19 ┆ …           ┆ 19.68        ┆ 2.5                ┆ 0           │\n",
       "├╌╌╌╌╌╌╌╌╌╌┼╌╌╌╌╌╌╌╌╌╌╌╌╌╌╌╌╌╌╌╌╌┼╌╌╌╌╌╌╌╌╌╌╌╌╌╌╌╌╌╌╌╌╌┼╌╌╌╌╌╌╌╌╌╌╌╌╌┼╌╌╌╌╌╌╌╌╌╌╌╌╌╌┼╌╌╌╌╌╌╌╌╌╌╌╌╌╌╌╌╌╌╌╌┼╌╌╌╌╌╌╌╌╌╌╌╌╌┤\n",
       "│ 2        ┆ 2023-01-01 00:39:42 ┆ 2023-01-01 00:50:36 ┆ …           ┆ 19.9         ┆ 2.5                ┆ 0           │\n",
       "├╌╌╌╌╌╌╌╌╌╌┼╌╌╌╌╌╌╌╌╌╌╌╌╌╌╌╌╌╌╌╌╌┼╌╌╌╌╌╌╌╌╌╌╌╌╌╌╌╌╌╌╌╌╌┼╌╌╌╌╌╌╌╌╌╌╌╌╌┼╌╌╌╌╌╌╌╌╌╌╌╌╌╌┼╌╌╌╌╌╌╌╌╌╌╌╌╌╌╌╌╌╌╌╌┼╌╌╌╌╌╌╌╌╌╌╌╌╌┤\n",
       "│ 2        ┆ 2023-01-01 00:53:01 ┆ 2023-01-01 01:01:45 ┆ …           ┆ 19.68        ┆ 2.5                ┆ 0           │\n",
       "├╌╌╌╌╌╌╌╌╌╌┼╌╌╌╌╌╌╌╌╌╌╌╌╌╌╌╌╌╌╌╌╌┼╌╌╌╌╌╌╌╌╌╌╌╌╌╌╌╌╌╌╌╌╌┼╌╌╌╌╌╌╌╌╌╌╌╌╌┼╌╌╌╌╌╌╌╌╌╌╌╌╌╌┼╌╌╌╌╌╌╌╌╌╌╌╌╌╌╌╌╌╌╌╌┼╌╌╌╌╌╌╌╌╌╌╌╌╌┤\n",
       "│ 2        ┆ 2023-01-01 00:13:04 ┆ 2023-01-01 00:22:10 ┆ …           ┆ 16.25        ┆ 2.5                ┆ 0           │\n",
       "├╌╌╌╌╌╌╌╌╌╌┼╌╌╌╌╌╌╌╌╌╌╌╌╌╌╌╌╌╌╌╌╌┼╌╌╌╌╌╌╌╌╌╌╌╌╌╌╌╌╌╌╌╌╌┼╌╌╌╌╌╌╌╌╌╌╌╌╌┼╌╌╌╌╌╌╌╌╌╌╌╌╌╌┼╌╌╌╌╌╌╌╌╌╌╌╌╌╌╌╌╌╌╌╌┼╌╌╌╌╌╌╌╌╌╌╌╌╌┤\n",
       "│ 1        ┆ 2023-01-01 00:03:36 ┆ 2023-01-01 00:09:36 ┆ …           ┆ 13.6         ┆ 2.5                ┆ 0           │\n",
       "├╌╌╌╌╌╌╌╌╌╌┼╌╌╌╌╌╌╌╌╌╌╌╌╌╌╌╌╌╌╌╌╌┼╌╌╌╌╌╌╌╌╌╌╌╌╌╌╌╌╌╌╌╌╌┼╌╌╌╌╌╌╌╌╌╌╌╌╌┼╌╌╌╌╌╌╌╌╌╌╌╌╌╌┼╌╌╌╌╌╌╌╌╌╌╌╌╌╌╌╌╌╌╌╌┼╌╌╌╌╌╌╌╌╌╌╌╌╌┤\n",
       "│ 1        ┆ 2023-01-01 00:51:45 ┆ 2023-01-01 00:58:18 ┆ …           ┆ 17.15        ┆ 2.5                ┆ 0           │\n",
       "╰──────────┴─────────────────────┴─────────────────────┴─────────────┴──────────────┴────────────────────┴─────────────╯\n",
       "\n",
       "(Showing first 8 rows)"
      ]
     },
     "metadata": {},
     "output_type": "display_data"
    }
   ],
   "source": [
    "df_daft_new.show()"
   ]
  },
  {
   "cell_type": "markdown",
   "id": "583a2ca3",
   "metadata": {},
   "source": [
    "# Load new data to write to the Iceberg table"
   ]
  },
  {
   "cell_type": "code",
   "execution_count": 1,
   "id": "4f1bacfb",
   "metadata": {},
   "outputs": [],
   "source": [
    "import daft\n",
    "from datetime import datetime\n",
    "\n",
    "# Define the data in dictionary format with lists for each column\n",
    "new_data = {\n",
    "    \"VendorID\": [1, 2],\n",
    "    \"tpep_pickup_datetime\": [datetime(2023, 1, 1, 10, 0, 0), datetime(2023, 1, 2, 11, 0, 0)],\n",
    "    \"tpep_dropoff_datetime\": [datetime(2023, 1, 1, 10, 30, 0), datetime(2023, 1, 2, 11, 20, 0)],\n",
    "    \"passenger_count\": [1.0, 2.0],\n",
    "    \"trip_distance\": [2.5, 5.0],\n",
    "    \"RatecodeID\": [1.0, 2.0],\n",
    "    \"store_and_fwd_flag\": [\"N\", \"Y\"],\n",
    "    \"PULocationID\": [123, 789],\n",
    "    \"DOLocationID\": [456, 101],\n",
    "    \"payment_type\": [1, 2],\n",
    "    \"fare_amount\": [15.0, 25.0],\n",
    "    \"extra\": [0.5, 1.0],\n",
    "    \"mta_tax\": [0.5, 0.5],\n",
    "    \"tip_amount\": [2.0, 3.5],\n",
    "    \"tolls_amount\": [0.0, 5.0],\n",
    "    \"improvement_surcharge\": [0.3, 0.3],\n",
    "    \"total_amount\": [18.3, 35.3],\n",
    "    \"congestion_surcharge\": [0.0, 0.0],\n",
    "    \"airport_fee\": [0.0, 1.0]\n",
    "}"
   ]
  },
  {
   "cell_type": "code",
   "execution_count": 14,
   "id": "8168f821",
   "metadata": {},
   "outputs": [
    {
     "data": {
      "text/plain": [
       "{'VendorID': [1, 2],\n",
       " 'tpep_pickup_datetime': [datetime.datetime(2023, 1, 1, 10, 0),\n",
       "  datetime.datetime(2023, 1, 2, 11, 0)],\n",
       " 'tpep_dropoff_datetime': [datetime.datetime(2023, 1, 1, 10, 30),\n",
       "  datetime.datetime(2023, 1, 2, 11, 20)],\n",
       " 'passenger_count': [1.0, 2.0],\n",
       " 'trip_distance': [2.5, 5.0],\n",
       " 'RatecodeID': [1.0, 2.0],\n",
       " 'store_and_fwd_flag': ['N', 'Y'],\n",
       " 'PULocationID': [123, 789],\n",
       " 'DOLocationID': [456, 101],\n",
       " 'payment_type': [1, 2],\n",
       " 'fare_amount': [15.0, 25.0],\n",
       " 'extra': [0.5, 1.0],\n",
       " 'mta_tax': [0.5, 0.5],\n",
       " 'tip_amount': [2.0, 3.5],\n",
       " 'tolls_amount': [0.0, 5.0],\n",
       " 'improvement_surcharge': [0.3, 0.3],\n",
       " 'total_amount': [18.3, 35.3],\n",
       " 'congestion_surcharge': [0.0, 0.0],\n",
       " 'airport_fee': [0.0, 1.0]}"
      ]
     },
     "execution_count": 14,
     "metadata": {},
     "output_type": "execute_result"
    }
   ],
   "source": [
    "new_data"
   ]
  },
  {
   "cell_type": "code",
   "execution_count": 3,
   "id": "e1ec1010",
   "metadata": {},
   "outputs": [],
   "source": [
    "df_new_rec = daft.from_pydict(new_data)"
   ]
  },
  {
   "cell_type": "code",
   "execution_count": 15,
   "id": "62dc68e3",
   "metadata": {},
   "outputs": [
    {
     "data": {
      "text/html": [
       "<div>\n",
       "<table class=\"dataframe\">\n",
       "<thead><tr><th style=\"text-wrap: nowrap; max-width:192px; overflow:auto; text-align:left\">VendorID<br />Int64</th><th style=\"text-wrap: nowrap; max-width:192px; overflow:auto; text-align:left\">tpep_pickup_datetime<br />Timestamp(Microseconds, None)</th><th style=\"text-wrap: nowrap; max-width:192px; overflow:auto; text-align:left\">tpep_dropoff_datetime<br />Timestamp(Microseconds, None)</th><th style=\"text-wrap: nowrap; max-width:192px; overflow:auto; text-align:left\">passenger_count<br />Float64</th><th style=\"text-wrap: nowrap; max-width:192px; overflow:auto; text-align:left\">trip_distance<br />Float64</th><th style=\"text-wrap: nowrap; max-width:192px; overflow:auto; text-align:left\">RatecodeID<br />Float64</th><th style=\"text-wrap: nowrap; max-width:192px; overflow:auto; text-align:left\">store_and_fwd_flag<br />Utf8</th><th style=\"text-wrap: nowrap; max-width:192px; overflow:auto; text-align:left\">PULocationID<br />Int64</th><th style=\"text-wrap: nowrap; max-width:192px; overflow:auto; text-align:left\">DOLocationID<br />Int64</th><th style=\"text-wrap: nowrap; max-width:192px; overflow:auto; text-align:left\">payment_type<br />Int64</th><th style=\"text-wrap: nowrap; max-width:192px; overflow:auto; text-align:left\">fare_amount<br />Float64</th><th style=\"text-wrap: nowrap; max-width:192px; overflow:auto; text-align:left\">extra<br />Float64</th><th style=\"text-wrap: nowrap; max-width:192px; overflow:auto; text-align:left\">mta_tax<br />Float64</th><th style=\"text-wrap: nowrap; max-width:192px; overflow:auto; text-align:left\">tip_amount<br />Float64</th><th style=\"text-wrap: nowrap; max-width:192px; overflow:auto; text-align:left\">tolls_amount<br />Float64</th><th style=\"text-wrap: nowrap; max-width:192px; overflow:auto; text-align:left\">improvement_surcharge<br />Float64</th><th style=\"text-wrap: nowrap; max-width:192px; overflow:auto; text-align:left\">total_amount<br />Float64</th><th style=\"text-wrap: nowrap; max-width:192px; overflow:auto; text-align:left\">congestion_surcharge<br />Float64</th><th style=\"text-wrap: nowrap; max-width:192px; overflow:auto; text-align:left\">airport_fee<br />Float64</th></tr></thead>\n",
       "<tbody>\n",
       "<tr><td><div style=\"text-align:left; max-width:192px; max-height:64px; overflow:auto\">1</div></td><td><div style=\"text-align:left; max-width:192px; max-height:64px; overflow:auto\">2023-01-01 10:00:00</div></td><td><div style=\"text-align:left; max-width:192px; max-height:64px; overflow:auto\">2023-01-01 10:30:00</div></td><td><div style=\"text-align:left; max-width:192px; max-height:64px; overflow:auto\">1</div></td><td><div style=\"text-align:left; max-width:192px; max-height:64px; overflow:auto\">2.5</div></td><td><div style=\"text-align:left; max-width:192px; max-height:64px; overflow:auto\">1</div></td><td><div style=\"text-align:left; max-width:192px; max-height:64px; overflow:auto\">N</div></td><td><div style=\"text-align:left; max-width:192px; max-height:64px; overflow:auto\">123</div></td><td><div style=\"text-align:left; max-width:192px; max-height:64px; overflow:auto\">456</div></td><td><div style=\"text-align:left; max-width:192px; max-height:64px; overflow:auto\">1</div></td><td><div style=\"text-align:left; max-width:192px; max-height:64px; overflow:auto\">15</div></td><td><div style=\"text-align:left; max-width:192px; max-height:64px; overflow:auto\">0.5</div></td><td><div style=\"text-align:left; max-width:192px; max-height:64px; overflow:auto\">0.5</div></td><td><div style=\"text-align:left; max-width:192px; max-height:64px; overflow:auto\">2</div></td><td><div style=\"text-align:left; max-width:192px; max-height:64px; overflow:auto\">0</div></td><td><div style=\"text-align:left; max-width:192px; max-height:64px; overflow:auto\">0.3</div></td><td><div style=\"text-align:left; max-width:192px; max-height:64px; overflow:auto\">18.3</div></td><td><div style=\"text-align:left; max-width:192px; max-height:64px; overflow:auto\">0</div></td><td><div style=\"text-align:left; max-width:192px; max-height:64px; overflow:auto\">0</div></td></tr>\n",
       "<tr><td><div style=\"text-align:left; max-width:192px; max-height:64px; overflow:auto\">2</div></td><td><div style=\"text-align:left; max-width:192px; max-height:64px; overflow:auto\">2023-01-02 11:00:00</div></td><td><div style=\"text-align:left; max-width:192px; max-height:64px; overflow:auto\">2023-01-02 11:20:00</div></td><td><div style=\"text-align:left; max-width:192px; max-height:64px; overflow:auto\">2</div></td><td><div style=\"text-align:left; max-width:192px; max-height:64px; overflow:auto\">5</div></td><td><div style=\"text-align:left; max-width:192px; max-height:64px; overflow:auto\">2</div></td><td><div style=\"text-align:left; max-width:192px; max-height:64px; overflow:auto\">Y</div></td><td><div style=\"text-align:left; max-width:192px; max-height:64px; overflow:auto\">789</div></td><td><div style=\"text-align:left; max-width:192px; max-height:64px; overflow:auto\">101</div></td><td><div style=\"text-align:left; max-width:192px; max-height:64px; overflow:auto\">2</div></td><td><div style=\"text-align:left; max-width:192px; max-height:64px; overflow:auto\">25</div></td><td><div style=\"text-align:left; max-width:192px; max-height:64px; overflow:auto\">1</div></td><td><div style=\"text-align:left; max-width:192px; max-height:64px; overflow:auto\">0.5</div></td><td><div style=\"text-align:left; max-width:192px; max-height:64px; overflow:auto\">3.5</div></td><td><div style=\"text-align:left; max-width:192px; max-height:64px; overflow:auto\">5</div></td><td><div style=\"text-align:left; max-width:192px; max-height:64px; overflow:auto\">0.3</div></td><td><div style=\"text-align:left; max-width:192px; max-height:64px; overflow:auto\">35.3</div></td><td><div style=\"text-align:left; max-width:192px; max-height:64px; overflow:auto\">0</div></td><td><div style=\"text-align:left; max-width:192px; max-height:64px; overflow:auto\">1</div></td></tr>\n",
       "</tbody>\n",
       "</table>\n",
       "<small>(Showing first 2 of 2 rows)</small>\n",
       "</div>"
      ],
      "text/plain": [
       "╭──────────┬─────────────────────┬─────────────────────┬─────────────┬──────────────┬────────────────────┬─────────────╮\n",
       "│ VendorID ┆ tpep_pickup_datetim ┆ tpep_dropoff_dateti ┆      …      ┆ total_amount ┆ congestion_surchar ┆ airport_fee │\n",
       "│ ---      ┆ e                   ┆ me                  ┆             ┆ ---          ┆ ge                 ┆ ---         │\n",
       "│ Int64    ┆ ---                 ┆ ---                 ┆ (13 hidden) ┆ Float64      ┆ ---                ┆ Float64     │\n",
       "│          ┆ Timestamp(Microseco ┆ Timestamp(Microseco ┆             ┆              ┆ Float64            ┆             │\n",
       "│          ┆ nds, None)          ┆ nds, None)          ┆             ┆              ┆                    ┆             │\n",
       "╞══════════╪═════════════════════╪═════════════════════╪═════════════╪══════════════╪════════════════════╪═════════════╡\n",
       "│ 1        ┆ 2023-01-01 10:00:00 ┆ 2023-01-01 10:30:00 ┆ …           ┆ 18.3         ┆ 0                  ┆ 0           │\n",
       "├╌╌╌╌╌╌╌╌╌╌┼╌╌╌╌╌╌╌╌╌╌╌╌╌╌╌╌╌╌╌╌╌┼╌╌╌╌╌╌╌╌╌╌╌╌╌╌╌╌╌╌╌╌╌┼╌╌╌╌╌╌╌╌╌╌╌╌╌┼╌╌╌╌╌╌╌╌╌╌╌╌╌╌┼╌╌╌╌╌╌╌╌╌╌╌╌╌╌╌╌╌╌╌╌┼╌╌╌╌╌╌╌╌╌╌╌╌╌┤\n",
       "│ 2        ┆ 2023-01-02 11:00:00 ┆ 2023-01-02 11:20:00 ┆ …           ┆ 35.3         ┆ 0                  ┆ 1           │\n",
       "╰──────────┴─────────────────────┴─────────────────────┴─────────────┴──────────────┴────────────────────┴─────────────╯\n",
       "\n",
       "(Showing first 2 of 2 rows)"
      ]
     },
     "metadata": {},
     "output_type": "display_data"
    }
   ],
   "source": [
    "df_new_rec.show()"
   ]
  },
  {
   "cell_type": "markdown",
   "id": "4d9c7389",
   "metadata": {},
   "source": [
    "# Write data to Iceberg using the `write_iceberg` API"
   ]
  },
  {
   "cell_type": "code",
   "execution_count": 16,
   "id": "9e90de43",
   "metadata": {},
   "outputs": [
    {
     "name": "stdout",
     "output_type": "stream",
     "text": [
      "                                                             \r"
     ]
    }
   ],
   "source": [
    "written_df = df_new_rec.write_iceberg(ice_table, mode=\"append\")"
   ]
  },
  {
   "cell_type": "code",
   "execution_count": 17,
   "id": "c79ef35a",
   "metadata": {},
   "outputs": [
    {
     "data": {
      "text/html": [
       "<div>\n",
       "<table class=\"dataframe\">\n",
       "<thead><tr><th style=\"text-wrap: nowrap; max-width:192px; overflow:auto; text-align:left\">operation<br />Utf8</th><th style=\"text-wrap: nowrap; max-width:192px; overflow:auto; text-align:left\">rows<br />Int64</th><th style=\"text-wrap: nowrap; max-width:192px; overflow:auto; text-align:left\">file_size<br />Int64</th><th style=\"text-wrap: nowrap; max-width:192px; overflow:auto; text-align:left\">file_name<br />Utf8</th></tr></thead>\n",
       "<tbody>\n",
       "<tr><td><div style=\"text-align:left; max-width:192px; max-height:64px; overflow:auto\">ADD</div></td><td><div style=\"text-align:left; max-width:192px; max-height:64px; overflow:auto\">2</div></td><td><div style=\"text-align:left; max-width:192px; max-height:64px; overflow:auto\">7739</div></td><td><div style=\"text-align:left; max-width:192px; max-height:64px; overflow:auto\">file:///tmp/warehouse/default.db/taxi_dataset_ice/data/ed479679-eeb3-4373-a2d3-339a99c1f104-0.parquet</div></td></tr>\n",
       "</tbody>\n",
       "</table>\n",
       "<small>(Showing first 1 of 1 rows)</small>\n",
       "</div>"
      ],
      "text/plain": [
       "╭───────────┬───────┬───────────┬────────────────────────────────╮\n",
       "│ operation ┆ rows  ┆ file_size ┆ file_name                      │\n",
       "│ ---       ┆ ---   ┆ ---       ┆ ---                            │\n",
       "│ Utf8      ┆ Int64 ┆ Int64     ┆ Utf8                           │\n",
       "╞═══════════╪═══════╪═══════════╪════════════════════════════════╡\n",
       "│ ADD       ┆ 2     ┆ 7739      ┆ file:///tmp/warehouse/default… │\n",
       "╰───────────┴───────┴───────────┴────────────────────────────────╯\n",
       "\n",
       "(Showing first 1 of 1 rows)"
      ]
     },
     "metadata": {},
     "output_type": "display_data"
    }
   ],
   "source": [
    "written_df.show()"
   ]
  }
 ],
 "metadata": {
  "kernelspec": {
   "display_name": "Python 3 (ipykernel)",
   "language": "python",
   "name": "python3"
  },
  "language_info": {
   "codemirror_mode": {
    "name": "ipython",
    "version": 3
   },
   "file_extension": ".py",
   "mimetype": "text/x-python",
   "name": "python",
   "nbconvert_exporter": "python",
   "pygments_lexer": "ipython3",
   "version": "3.10.6"
  }
 },
 "nbformat": 4,
 "nbformat_minor": 5
}
